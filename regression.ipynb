{
 "cells": [
  {
   "cell_type": "code",
   "execution_count": null,
   "id": "c955c2fa",
   "metadata": {},
   "outputs": [],
   "source": [
    "# Import required packages\n",
    "import matplotlib.pyplot as plt\n",
    "import numpy as np\n",
    "from sklearn import datasets, linear_model, metrics\n",
    "from sklearn.preprocessing import MinMaxScaler\n",
    "import seaborn as sns\n",
    "import pandas as pd\n",
    "import math\n"
   ]
  },
  {
   "cell_type": "code",
   "execution_count": null,
   "id": "8eeafc77",
   "metadata": {},
   "outputs": [],
   "source": [
    "df = pd.DataFrame({\n",
    "    'A': [1, 2, 3, 4, 5],\n",
    "    'B': ['a', 'b', 'c', 'd', 'e'],\n",
    "    'C': [1.1, '1.0', '1.3', 2, 5]})\n",
    "display(df)"
   ]
  },
  {
   "cell_type": "code",
   "execution_count": null,
   "id": "c9a29d45",
   "metadata": {},
   "outputs": [],
   "source": [
    "# Import dataset\n",
    "df = pd.read_csv('/home/mia/Documents/College/CS4811/TwitterNLP/finance_data.csv').convert_dtypes()\n",
    "TOTAL_ROWS = len(df.index) - 1\n",
    "TRAIN_SIZE = math.ceil(TOTAL_ROWS * .75)\n",
    "\n",
    "counter = 0\n",
    "for label, col in df.iteritems():\n",
    "    if label != 'Date':\n",
    "        df.loc[:, label] = col.str.replace(\"%\", \"\").astype(float)\n",
    "\n",
    "# Scale everything from 0 to 1\n",
    "# Store the date column\n",
    "dates = df['Date']\n",
    "df = df.drop('Date', axis=1)\n",
    "df = (df-df.min())/(df.max()-df.min())\n",
    "df = pd.concat((dates, df_norm), 1)\n",
    "\n",
    "print(\"Scaled Dataset Using Pandas\")\n",
    "\n",
    "# Add all training data to a DataFrame\n",
    "df_train = pd.DataFrame()\n",
    "df_train = df.iloc[0:TRAIN_SIZE]\n",
    "\n",
    "# Add all the testing data to a DataFrame\n",
    "df_test = pd.DataFrame()\n",
    "df_test = df.iloc[TRAIN_SIZE:] \n",
    "\n",
    "display(df_train)\n",
    "display(df_test)"
   ]
  },
  {
   "cell_type": "code",
   "execution_count": null,
   "id": "90b14ccd",
   "metadata": {},
   "outputs": [],
   "source": [
    "# # load the boston dataset\n",
    "# boston = datasets.load_boston(return_X_y=False)\n",
    "\n",
    "# # defining feature matrix(X) and response vector(y)\n",
    "# X = boston.data\n",
    "# y = boston.target\n",
    "\n",
    "# # splitting X and y into training and testing sets\n",
    "# from sklearn.model_selection import train_test_split\n",
    "# X_train, X_test, y_train, y_test = train_test_split(X, y, test_size=0.4,\n",
    "# \t\t\t\t\t\t\t\t\t\t\t\t\trandom_state=1)\n",
    "\n",
    "# # create linear regression object\n",
    "# reg = linear_model.LinearRegression()\n",
    "\n",
    "# # train the model using the training sets\n",
    "# reg.fit(X_train, y_train)\n",
    "\n",
    "# # regression coefficients\n",
    "# print('Coefficients: ', reg.coef_)\n",
    "\n",
    "# # variance score: 1 means perfect prediction\n",
    "# print('Variance score: {}'.format(reg.score(X_test, y_test)))\n",
    "\n",
    "# # plot for residual error\n",
    "\n",
    "# ## setting plot style\n",
    "# plt.style.use('fivethirtyeight')\n",
    "\n",
    "# ## plotting residual errors in training data\n",
    "# plt.scatter(reg.predict(X_train), reg.predict(X_train) - y_train,\n",
    "# \t\t\tcolor = \"green\", s = 10, label = 'Train data')\n",
    "\n",
    "# ## plotting residual errors in test data\n",
    "# plt.scatter(reg.predict(X_test), reg.predict(X_test) - y_test,\n",
    "# \t\t\tcolor = \"blue\", s = 10, label = 'Test data')\n",
    "\n",
    "# ## plotting line for zero residual error\n",
    "# plt.hlines(y = 0, xmin = 0, xmax = 50, linewidth = 2)\n",
    "\n",
    "# ## plotting legend\n",
    "# plt.legend(loc = 'upper right')\n",
    "\n",
    "# ## plot title\n",
    "# plt.title(\"Residual errors\")\n",
    "\n",
    "# ## method call for showing the plot\n",
    "# plt.show()"
   ]
  },
  {
   "cell_type": "code",
   "execution_count": null,
   "id": "ec98dbff",
   "metadata": {},
   "outputs": [],
   "source": []
  }
 ],
 "metadata": {
  "kernelspec": {
   "display_name": "Python 3",
   "language": "python",
   "name": "python3"
  },
  "language_info": {
   "codemirror_mode": {
    "name": "ipython",
    "version": 3
   },
   "file_extension": ".py",
   "mimetype": "text/x-python",
   "name": "python",
   "nbconvert_exporter": "python",
   "pygments_lexer": "ipython3",
   "version": "3.6.13"
  }
 },
 "nbformat": 4,
 "nbformat_minor": 5
}
