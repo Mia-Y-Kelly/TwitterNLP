{
 "cells": [
  {
   "cell_type": "code",
   "execution_count": null,
   "id": "c955c2fa",
   "metadata": {},
   "outputs": [],
   "source": [
    "# Import required packages\n",
    "import matplotlib.pyplot as plt\n",
    "import numpy as np\n",
    "from sklearn import datasets, linear_model, metrics\n",
    "from sklearn.preprocessing import MinMaxScaler\n",
    "import seaborn as sns\n",
    "import pandas as pd\n",
    "import math\n"
   ]
  },
  {
   "cell_type": "code",
   "execution_count": null,
   "id": "8eeafc77",
   "metadata": {},
   "outputs": [],
   "source": [
    "df = pd.DataFrame({\n",
    "    'A': [1, 2, 3, 4, 5],\n",
    "    'B': ['a', 'b', 'c', 'd', 'e'],\n",
    "    'C': [1.1, '1.0', '1.3', 2, 5]})\n",
    "display(df)"
   ]
  },
  {
   "cell_type": "code",
   "execution_count": null,
   "id": "c9a29d45",
   "metadata": {},
   "outputs": [],
   "source": [
    "# Import dataset\n",
    "df = pd.read_csv('/home/mia/Documents/College/CS4811/TwitterNLP/finance_data.csv').convert_dtypes()\n",
    "TOTAL_ROWS = len(df.index) - 1\n",
    "TRAIN_SIZE = math.ceil(TOTAL_ROWS * .75)\n",
    "\n",
    "counter = 0\n",
    "for label, col in df.iteritems():\n",
    "    if label != 'Date':\n",
    "        df.loc[:, label] = col.str.replace(\"%\", \"\").astype(float)\n",
    "\n",
    "# Scale everything from 0 to 1\n",
    "# Store the date column\n",
    "dates = df['Date']\n",
    "df = df.drop('Date', axis=1)\n",
    "df = (df-df.min())/(df.max()-df.min())\n",
    "df = pd.concat((dates, df), 1)\n",
    "\n",
    "print(\"Scaled Dataset Using Pandas\")\n"
   ]
  },
  {
   "cell_type": "code",
   "execution_count": null,
   "id": "f5e38a48",
   "metadata": {},
   "outputs": [],
   "source": [
    "# Add all training data to a DataFrame\n",
    "df_train = pd.DataFrame()\n",
    "df_train = df.iloc[0:TRAIN_SIZE]\n",
    "\n",
    "# Add all the testing data to a DataFrame\n",
    "df_test = pd.DataFrame()\n",
    "df_test = df.iloc[TRAIN_SIZE:] \n",
    "# df_test = pd.get_dummies(df, columns=['Date'], drop_first=True)\n",
    "# display(df_test)\n"
   ]
  },
  {
   "cell_type": "code",
   "execution_count": null,
   "id": "69194221",
   "metadata": {},
   "outputs": [],
   "source": [
    "# display(df_train)\n",
    "# display(df_test)\n",
    "# print(df_train.info())\n",
    "\n",
    "# Train\n",
    "import statsmodels.api as sm\n",
    "# display(df_train['Date'])\n",
    "\n",
    "y_train = df_train['AAPL']\n",
    "x_train = df_train.loc[:,'SPX':'JNJ']\n",
    "\n",
    "x_train_lm = sm.add_constant(x_train)\n",
    "lr_1 = sm.OLS(y_train, x_train_lm)\n",
    "lr_1 = sm.OLS(y_train, x_train_lm).fit()\n",
    "lr_1.summary()"
   ]
  }
 ],
 "metadata": {
  "kernelspec": {
   "display_name": "Python 3",
   "language": "python",
   "name": "python3"
  },
  "language_info": {
   "codemirror_mode": {
    "name": "ipython",
    "version": 3
   },
   "file_extension": ".py",
   "mimetype": "text/x-python",
   "name": "python",
   "nbconvert_exporter": "python",
   "pygments_lexer": "ipython3",
   "version": "3.6.13"
  }
 },
 "nbformat": 4,
 "nbformat_minor": 5
}
