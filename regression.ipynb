{
 "cells": [
  {
   "cell_type": "code",
   "execution_count": null,
   "metadata": {},
   "outputs": [],
   "source": [
    "# Import required modules\n",
    "import pandas as pd\n",
    "import re                                           # regular expressions\n",
    "import nltk\n",
    "import nltk.corpus as corpus                        # nltk package for reading files\n",
    "nltk.download('stopwords')\n",
    "from nltk.corpus import stopwords as stopwords      # words such as 'the','be','an', that don't significantly impact the sentiment\n",
    "from nltk.stem import WordNetLemmatizer             # Groups words\n",
    "from nltk.tokenize import word_tokenize             # Splits text into tokens\n",
    "import collections\n",
    "# Will be used later on\n",
    "import matplotlib as mpl\n",
    "import matplotlib.pyplot as plt\n",
    "import seaborn as sns\n",
    "sns.set()\n",
    "# import sklearn\n",
    "# import numpy as np"
   ]
  },
  {
   "cell_type": "code",
   "execution_count": null,
   "metadata": {
    "scrolled": true
   },
   "outputs": [],
   "source": [
    "# Filter out all unlabelled sentiment\n",
    "p_df = pd.read_csv('/home/mia/Documents/College/CS4811/TwitterNLP/tweets_labelled.csv', sep=';',names=['created_at','text','sentiment']).query('sentiment == \"positive\"')\n",
    "n_df = pd.read_csv('/home/mia/Documents/College/CS4811/TwitterNLP/tweets_labelled.csv', sep=';',names=['created_at','text','sentiment']).query('sentiment == \"negative\"')\n",
    "\n",
    "# Debug Print\n",
    "# display(p_df)\n",
    "# display(n_df)\n",
    "\n",
    "# Combine dataframes\n",
    "frames = [p_df, n_df]\n",
    "df = pd.concat(frames)\n",
    "\n",
    "# Sort by date\n",
    "# https://www.geeksforgeeks.org/how-to-sort-a-pandas-dataframe-by-date/\n",
    "df['created_at'] = pd.to_datetime(df['created_at'])\n",
    "df = df.sort_values(by=\"created_at\",ascending=True)\n",
    "# Debug Print\n",
    "display(df)\n"
   ]
  },
  {
   "cell_type": "code",
   "execution_count": null,
   "metadata": {},
   "outputs": [],
   "source": [
    "# Grab the top 25 stocks\n",
    "ticker_pattern = re.compile(r'(^\\$[A-Z]+|^\\$ES_F)')\n",
    "\n",
    "# Break the string into a dictionary\n",
    "ticker_freq_dict = collections.defaultdict(int)\n",
    "\n",
    "for text in df['text']:\n",
    "    for word in text.split():\n",
    "        if ticker_pattern.fullmatch(word) is not None:\n",
    "            ticker_freq_dict[word[1:]] += 1\n",
    "\n",
    "ticker_freq_df = pd.DataFrame.from_dict(\n",
    "    ticker_freq_dict, orient='index', columns=['freq'])\\\n",
    "    .sort_values('freq', ascending=False).head(25)\n",
    "display(ticker_freq_df)    "
   ]
  },
  {
   "cell_type": "code",
   "execution_count": 35,
   "metadata": {},
   "outputs": [],
   "source": [
    "# Create a dictionary of strings to save each within the dictionary\n",
    "ticker_dict = collections.defaultdict(str)\n",
    "\n",
    "for text in df['text']:\n",
    "    for ticker in ticker_freq_df.index:\n",
    "        if text.find(ticker) > 0:\n",
    "            if ticker not in ticker_dict:\n",
    "                ticker_dict[ticker] = [text]\n",
    "                break\n",
    "        # else:\n",
    "        #     ticker_dict[ticker].append(text)\n"
   ]
  },
  {
   "cell_type": "code",
   "execution_count": 36,
   "metadata": {},
   "outputs": [
    {
     "name": "stdout",
     "output_type": "stream",
     "text": [
      "0\n"
     ]
    }
   ],
   "source": [
    "# Print out the dictionary to json file for debugging purposes\n",
    "import json\n",
    "\n",
    "with open('ticker_dict.json','w') as fout:\n",
    "    json.dump(ticker_dict, fout, indent=4)\n",
    "\n",
    "# Confirm there are a correct number of elements in each value set\n",
    "print(len(ticker_dict['APPL']))"
   ]
  },
  {
   "cell_type": "code",
   "execution_count": null,
   "metadata": {},
   "outputs": [],
   "source": [
    "# Return a weight from 0-1 based on the percentage of positive tweets\n"
   ]
  }
 ],
 "metadata": {
  "kernelspec": {
   "display_name": "Python 3",
   "language": "python",
   "name": "python3"
  },
  "language_info": {
   "codemirror_mode": {
    "name": "ipython",
    "version": 3
   },
   "file_extension": ".py",
   "mimetype": "text/x-python",
   "name": "python",
   "nbconvert_exporter": "python",
   "pygments_lexer": "ipython3",
   "version": "3.6.13"
  }
 },
 "nbformat": 4,
 "nbformat_minor": 2
}
